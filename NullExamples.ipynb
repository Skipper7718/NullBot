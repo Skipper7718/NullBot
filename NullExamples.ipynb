{
 "cells": [
  {
   "cell_type": "markdown",
   "id": "7c176f7f",
   "metadata": {},
   "source": [
    "# NullBot 0x0B Program Examples\n",
    "> **Only tested on MK1**"
   ]
  },
  {
   "cell_type": "markdown",
   "id": "ff6007f7",
   "metadata": {},
   "source": [
    "## Settings for Jupyter"
   ]
  },
  {
   "cell_type": "code",
   "execution_count": null,
   "id": "3d962f32",
   "metadata": {},
   "outputs": [],
   "source": [
    "# fix Jupyter not autocompleting\n",
    "%config Completer.use_jedi = False"
   ]
  },
  {
   "cell_type": "code",
   "execution_count": null,
   "id": "16726aa2",
   "metadata": {},
   "outputs": [],
   "source": [
    "# not used when installed with pip\n",
    "import sys\n",
    "sys.path.append(\"./software/JetsonCore\")\n",
    "sys.path.append(\"./software/JetsonCore/nullbot\")"
   ]
  },
  {
   "cell_type": "markdown",
   "id": "7d551c9f",
   "metadata": {},
   "source": [
    "#### Imports"
   ]
  },
  {
   "cell_type": "code",
   "execution_count": null,
   "id": "77d57718",
   "metadata": {},
   "outputs": [],
   "source": [
    "# many of these are not neccecary, but useful in the future\n",
    "from nullbot import camera, ai, watchdog, modules\n",
    "import sys, cv2\n",
    "import matplotlib.pyplot as plt\n",
    "from PIL import Image, ImageOps\n",
    "from time import sleep\n",
    "from IPython.display import clear_output\n",
    "import ipywidgets as widgets\n",
    "import tensorflow as tf\n",
    "import numpy as np\n",
    "import pandas as pd"
   ]
  },
  {
   "cell_type": "markdown",
   "id": "85b41394",
   "metadata": {},
   "source": [
    "# Basic Movement"
   ]
  },
  {
   "cell_type": "markdown",
   "id": "ef6773d2",
   "metadata": {},
   "source": [
    "### Automated"
   ]
  },
  {
   "cell_type": "code",
   "execution_count": null,
   "id": "f5311b13",
   "metadata": {},
   "outputs": [],
   "source": [
    "# move forward, turn left, turn right\n",
    "# all for one second each\n",
    "# the modules address is 0x56, as detected by the coprocessor\n",
    "drive_module = modules.DriveModule(0x56)\n",
    "\n",
    "drive_module.forward(1)\n",
    "drive_module.left(1)\n",
    "drive_module.right(1)"
   ]
  },
  {
   "cell_type": "markdown",
   "id": "2aeea6c0",
   "metadata": {},
   "source": [
    "### Buttons"
   ]
  },
  {
   "cell_type": "code",
   "execution_count": null,
   "id": "4f3df0a9",
   "metadata": {},
   "outputs": [],
   "source": [
    "# use jupyter buttons for interaction\n",
    "\n",
    "# the modules address is 0x56, as detected by the coprocessor\n",
    "drive_module = modules.DriveModule(0x56)\n",
    "\n",
    "button_forward = widgets.Button(description=\"forward\")\n",
    "button_forward.on_click(lambda : drive_module.forward(1))\n",
    "button_left = widgets.Button(description=\"left\")\n",
    "button_forward.on_click(lambda : drive_module.forward(1))\n",
    "button_right = widgets.Button(description=\"right\")\n",
    "button_right.on_click(lambda : drive_module.right(1))\n",
    "display(button_forward, button_left)"
   ]
  },
  {
   "cell_type": "markdown",
   "id": "ebe92155",
   "metadata": {},
   "source": [
    "# Camera"
   ]
  },
  {
   "cell_type": "code",
   "execution_count": null,
   "id": "7b62967d",
   "metadata": {},
   "outputs": [],
   "source": [
    "# run to clear callbacks and stop camera lock\n",
    "watchdog.shutdown_all_threads()\n",
    "camera.__activated = False"
   ]
  },
  {
   "cell_type": "markdown",
   "id": "3b2bcee7",
   "metadata": {},
   "source": [
    "### Frame counter"
   ]
  },
  {
   "cell_type": "code",
   "execution_count": null,
   "id": "e8078397",
   "metadata": {},
   "outputs": [],
   "source": [
    "# demonstrate how fast the camera can read images, convert and send to callback\n",
    "count = 0\n",
    "\n",
    "def show_image(image:Image)-> None:\n",
    "    clear_output(wait=True)\n",
    "    global count\n",
    "    print(f\"Frame: {count}\")\n",
    "    count += 1\n",
    "\n",
    "camera.camera_with_callback(show_image)"
   ]
  },
  {
   "cell_type": "markdown",
   "id": "9a5ea72d",
   "metadata": {},
   "source": [
    "### Show image"
   ]
  },
  {
   "cell_type": "code",
   "execution_count": null,
   "id": "ab443038",
   "metadata": {},
   "outputs": [],
   "source": [
    "image = None\n",
    "\n",
    "def update_image(i: Image) -> None:\n",
    "    global image\n",
    "    image = ImageOps.flip(i)\n",
    "\n",
    "def show_image(_) -> None:\n",
    "    clear_output(wait=True)\n",
    "    display(button, image)\n",
    "\n",
    "camera.camera_with_callback(update_image)\n",
    "button = widgets.Button(description = \"update image\")\n",
    "button.on_click(show_image)\n",
    "display(button)"
   ]
  },
  {
   "cell_type": "markdown",
   "id": "e1568119",
   "metadata": {},
   "source": [
    "# Pseudo Streaming (Jupyter is very slow)"
   ]
  },
  {
   "cell_type": "code",
   "execution_count": null,
   "id": "b48e7983",
   "metadata": {},
   "outputs": [],
   "source": [
    "def update_image(i: Image) -> None:\n",
    "    clear_output(wait=True)\n",
    "    image = ImageOps.flip(i)\n",
    "    display(image)\n",
    "\n",
    "camera.camera_with_callback(update_image)"
   ]
  },
  {
   "cell_type": "markdown",
   "id": "8b765225",
   "metadata": {},
   "source": [
    "# Modules"
   ]
  },
  {
   "cell_type": "markdown",
   "id": "442c84de",
   "metadata": {},
   "source": [
    "### Rescan and list found modules"
   ]
  },
  {
   "cell_type": "code",
   "execution_count": null,
   "id": "df4e4f84",
   "metadata": {},
   "outputs": [],
   "source": [
    "modules._coprocessor.read_scan()\n",
    "for address in modules.found_modules:\n",
    "    print(f\"Found {hex(address)}\")"
   ]
  },
  {
   "cell_type": "markdown",
   "id": "9410aeb3",
   "metadata": {},
   "source": [
    "### Define custom module\n",
    "*This Example uses the NullBot Dev Board*"
   ]
  },
  {
   "cell_type": "code",
   "execution_count": null,
   "id": "f08b99f6",
   "metadata": {},
   "outputs": [],
   "source": [
    "# 0x01: onboard led on\n",
    "# 0x02: onboard led off\n",
    "\n",
    "class MyModule(modules.Base):\n",
    "    def __init__(self) -> None:\n",
    "        super().__init__(0x31)\n",
    "    \n",
    "    def on(self):\n",
    "        self.send(0x01)\n",
    "    \n",
    "    def off(self):\n",
    "        self.send(0x02)\n",
    "\n",
    "mymodule = MyModule()\n",
    "mymodule.on()\n",
    "sleep(1)\n",
    "mymodule.off()"
   ]
  },
  {
   "cell_type": "markdown",
   "id": "6af0deca",
   "metadata": {},
   "source": [
    "### Oled status test"
   ]
  },
  {
   "cell_type": "code",
   "execution_count": null,
   "id": "d24fc85c",
   "metadata": {},
   "outputs": [],
   "source": [
    "modules._coprocessor.display_error()\n",
    "sleep(2)\n",
    "modules._coprocessor.display_thread_failure()\n",
    "sleep(2)\n",
    "modules._coprocessor.display_all_running()"
   ]
  },
  {
   "cell_type": "markdown",
   "id": "facc65d8",
   "metadata": {},
   "source": [
    "# WatchDog"
   ]
  },
  {
   "cell_type": "markdown",
   "id": "9a6fcd2b",
   "metadata": {},
   "source": [
    "### LoopThreads\n",
    "##### It is very important that the functions do not loop forever, as the loopthreads loops the functions on its own"
   ]
  },
  {
   "cell_type": "code",
   "execution_count": null,
   "id": "e82f761f",
   "metadata": {
    "scrolled": true
   },
   "outputs": [],
   "source": [
    "def loop_task() -> None:\n",
    "    print(\"Ping\")\n",
    "    sleep(1)\n",
    "\n",
    "task = watchdog.LoopThread(loop_task, name=\"Ping Task\")\n",
    "task.start()\n",
    "sleep(3)\n",
    "task.stop()"
   ]
  },
  {
   "cell_type": "markdown",
   "id": "d8b6a088",
   "metadata": {},
   "source": [
    "### Print running threads"
   ]
  },
  {
   "cell_type": "code",
   "execution_count": null,
   "id": "dfcf140d",
   "metadata": {},
   "outputs": [],
   "source": [
    "def func():\n",
    "    pass\n",
    "\n",
    "task = watchdog.LoopThread(func, name=\"test Task\")\n",
    "task.start()\n",
    "\n",
    "for thread in watchdog.registered_threads:\n",
    "    print(f\"Name: {thread.name}\\nRunning: {thread.running}\\n\")\n",
    "\n",
    "task.stop()"
   ]
  },
  {
   "cell_type": "markdown",
   "id": "0fe76c36",
   "metadata": {},
   "source": [
    "### Kill all running threads"
   ]
  },
  {
   "cell_type": "code",
   "execution_count": null,
   "id": "ada889f5",
   "metadata": {},
   "outputs": [],
   "source": [
    "# An example with the camera is above\n",
    "watchdog.shutdown_all_threads()"
   ]
  },
  {
   "cell_type": "markdown",
   "id": "3e7e10f1",
   "metadata": {},
   "source": [
    "# AI - Neural Networks"
   ]
  },
  {
   "cell_type": "markdown",
   "id": "66fa5e79",
   "metadata": {},
   "source": [
    "# WIP"
   ]
  }
 ],
 "metadata": {
  "kernelspec": {
   "display_name": "Python 3 (ipykernel)",
   "language": "python",
   "name": "python3"
  },
  "language_info": {
   "codemirror_mode": {
    "name": "ipython",
    "version": 3
   },
   "file_extension": ".py",
   "mimetype": "text/x-python",
   "name": "python",
   "nbconvert_exporter": "python",
   "pygments_lexer": "ipython3",
   "version": "3.10.4"
  }
 },
 "nbformat": 4,
 "nbformat_minor": 5
}
